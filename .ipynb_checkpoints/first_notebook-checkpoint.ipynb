{
 "cells": [
  {
   "cell_type": "markdown",
   "id": "b33dc9d3cd34e73f",
   "metadata": {},
   "source": [
    "# Predicting Bike Sharing Demand"
   ]
  },
  {
   "cell_type": "code",
   "execution_count": null,
   "id": "e7e4f507fac5afcb",
   "metadata": {
    "ExecuteTime": {
     "end_time": "2025-05-08T08:21:42.913803Z",
     "start_time": "2025-05-08T08:21:42.910278Z"
    }
   },
   "outputs": [],
   "source": [
    "from statistics import linear_regression\n",
    "\n",
    "import pandas as pd\n",
    "import seaborn as sns\n",
    "import matplotlib.pyplot as plt\n",
    "import numpy as np\n",
    "\n",
    "import mlflow\n",
    "from sklearn.model_selection import train_test_split, GridSearchCV\n",
    "from sklearn.linear_model import LinearRegression\n",
    "from sklearn.ensemble import RandomForestRegressor\n",
    "from xgboost import XGBRegressor\n",
    "\n",
    "from sklearn.pipeline import Pipeline\n",
    "from sklearn.preprocessing import OneHotEncoder, StandardScaler\n",
    "from sklearn.metrics import r2_score, mean_squared_error\n",
    "# from sklearn.metrics import mean_squared_error\n",
    "# from sklearn.compose import ColumnTransformer\n",
    "# from sk\n",
    "\n",
    "\n",
    "from matplotlib.pyplot import ylabel\n",
    "# from prompt_toolkit.shortcuts import set_title"
   ]
  },
  {
   "cell_type": "markdown",
   "id": "379011c1da868050",
   "metadata": {},
   "source": [
    "# Data Exploration<br>\n",
    "\n",
    "## Import Data"
   ]
  },
  {
   "cell_type": "code",
   "execution_count": null,
   "id": "481e623fe2c35742",
   "metadata": {
    "ExecuteTime": {
     "end_time": "2025-05-08T08:21:42.947256Z",
     "start_time": "2025-05-08T08:21:42.935813Z"
    }
   },
   "outputs": [],
   "source": [
    "df_hour = pd.read_csv('bike+sharing+dataset/hour.csv')\n",
    "# df_day = pd.read_csv('bike+sharing+dataset/day.csv')\n"
   ]
  },
  {
   "cell_type": "markdown",
   "id": "d02d79d4b0e6929d",
   "metadata": {},
   "source": [
    "## Overview of the Data"
   ]
  },
  {
   "cell_type": "code",
   "execution_count": null,
   "id": "304ddb63b7e935cd",
   "metadata": {
    "ExecuteTime": {
     "end_time": "2025-05-08T08:21:42.967929Z",
     "start_time": "2025-05-08T08:21:42.964302Z"
    }
   },
   "outputs": [],
   "source": [
    "df_hour.head()"
   ]
  },
  {
   "cell_type": "markdown",
   "id": "18fc56653218f39d",
   "metadata": {},
   "source": [
    "## Look for missing Data / compare entries with Non-Null Count"
   ]
  },
  {
   "cell_type": "code",
   "execution_count": null,
   "id": "748b44d1f5a6622",
   "metadata": {
    "ExecuteTime": {
     "end_time": "2025-05-08T08:21:43.003081Z",
     "start_time": "2025-05-08T08:21:42.998899Z"
    }
   },
   "outputs": [],
   "source": [
    "df_hour.info()"
   ]
  },
  {
   "cell_type": "markdown",
   "id": "5f547cb9b682e106",
   "metadata": {},
   "source": [
    "## convert dteday to datetime"
   ]
  },
  {
   "cell_type": "code",
   "execution_count": null,
   "id": "daec6a0398e7f226",
   "metadata": {
    "ExecuteTime": {
     "end_time": "2025-05-08T08:21:43.036526Z",
     "start_time": "2025-05-08T08:21:43.033335Z"
    }
   },
   "outputs": [],
   "source": [
    "df_hour['dteday'] = pd.to_datetime(df_hour['dteday'])"
   ]
  },
  {
   "cell_type": "markdown",
   "id": "7eaa9d1acf62ffa3",
   "metadata": {},
   "source": [
    "## Statistics"
   ]
  },
  {
   "cell_type": "code",
   "execution_count": null,
   "id": "25ed6e33a3820705",
   "metadata": {
    "ExecuteTime": {
     "end_time": "2025-05-08T08:21:43.081599Z",
     "start_time": "2025-05-08T08:21:43.068444Z"
    }
   },
   "outputs": [],
   "source": [
    "df_hour.describe(include='number').style.background_gradient(cmap='Pastel1')"
   ]
  },
  {
   "cell_type": "markdown",
   "id": "9021c0d3ea989423",
   "metadata": {},
   "source": [
    "## Time-based analysis"
   ]
  },
  {
   "cell_type": "code",
   "execution_count": null,
   "id": "f10d29e5cd3301b6",
   "metadata": {
    "ExecuteTime": {
     "end_time": "2025-05-08T08:21:49.162588Z",
     "start_time": "2025-05-08T08:21:43.098723Z"
    }
   },
   "outputs": [],
   "source": [
    "fig, (ax0, ax1) = plt.subplots(1, 2, figsize=(15,5))\n",
    "# plt.figure(figsize=(8, 5))\n",
    "sns.lineplot(data=df_hour, x='dteday', y='registered', label='Registered', ax=ax0)\n",
    "sns.lineplot(data=df_hour, x='dteday', y='casual', label='Casual', ax=ax0)\n",
    "\n",
    "ax0.set_xlabel('Date')\n",
    "ax0.set_ylabel('Users')\n",
    "\n",
    "ax0.set_title('Registered vs Casual')\n",
    "\n",
    "sns.lineplot(data=df_hour, x='hr', y='registered', label='Registered', ax=ax1)\n",
    "sns.lineplot(data=df_hour, x='hr', y='casual', label='Casual', ax=ax1)\n",
    "\n",
    "ax1.set_xlabel('Hour')\n",
    "ax1.set_ylabel('Users')\n",
    "ax1.set_title('Registered vs Casual')\n"
   ]
  },
  {
   "cell_type": "markdown",
   "id": "fb500a9b3dd887c6",
   "metadata": {},
   "source": [
    "More registered users than casual users. The number of registered useres is raising more over 1 year than of the casual users"
   ]
  },
  {
   "cell_type": "code",
   "execution_count": null,
   "id": "38376d92ad0f6b9b",
   "metadata": {
    "ExecuteTime": {
     "end_time": "2025-05-08T08:21:50.643541Z",
     "start_time": "2025-05-08T08:21:49.181423Z"
    }
   },
   "outputs": [],
   "source": [
    "time_list = ['yr', 'season', 'mnth', 'holiday', 'weekday', 'workingday', 'weathersit']\n",
    "\n",
    "name_list = ['Year', 'Season', 'Month', 'Holiday', 'Weekday', 'Workingday', 'Weathersit']\n",
    "\n",
    "fig, axes = plt.subplots(2, 4, figsize=(20,10))\n",
    "axes = axes.flatten()\n",
    "for i, col in enumerate(time_list):\n",
    "    sns.barplot(data=df_hour, x=col, y='registered', ax=axes[i], label='Registered')\n",
    "    sns.barplot(data=df_hour, x=col, y='casual', ax=axes[i], label='Casual')\n",
    "    axes[i].set_xlabel(name_list[i])\n",
    "    axes[i].set_ylabel('Users per Hour')\n",
    "\n",
    "axes[7].set_visible(False)\n"
   ]
  },
  {
   "cell_type": "markdown",
   "id": "9fd672fc2b622694",
   "metadata": {},
   "source": [
    "Year: Bigger growth in registered users.<br>\n",
    "Season: Season 3 is the strongest. Season 1 the weakest.<br>\n",
    "Month: first month is the weakest. Ninth month the strongest.<br>\n",
    "Holiday: fewer registered users on holidays but more casual users. Still less in general.<br>\n",
    "Weekday: Day0 has the fewest users.<br>\n",
    "Workingday: On working days the majority of users are registered. On non-working days its 50/50.<br>\n",
    "Weathersit: most users Weathersit: 1."
   ]
  },
  {
   "cell_type": "markdown",
   "id": "dcd80edccff22587",
   "metadata": {},
   "source": [
    "## Distribution of Temperature / Correlation with users"
   ]
  },
  {
   "cell_type": "code",
   "execution_count": null,
   "id": "d2265fddffd4f2eb",
   "metadata": {
    "ExecuteTime": {
     "end_time": "2025-05-08T08:21:53.214942Z",
     "start_time": "2025-05-08T08:21:50.698012Z"
    }
   },
   "outputs": [],
   "source": [
    "lst_values = ['temp', 'atemp', 'hum', 'windspeed']\n",
    "fig, axes = plt.subplots(nrows=1, ncols=4, figsize=(20,5))\n",
    "\n",
    "for i, col in enumerate(lst_values):\n",
    "    sns.kdeplot(data=df_hour[col], fill=True, ax=axes[i])\n",
    "    axes[i].set_title(f'Distribution of {col}')\n",
    "plt.show()\n",
    "lst_values = ['temp', 'atemp', 'hum', 'windspeed']\n",
    "fig, axes = plt.subplots(nrows=1, ncols=4, figsize=(20,5))\n",
    "\n",
    "for i, value in enumerate(lst_values):\n",
    "    sns.lineplot(data=df_hour, x=value, y='registered', ax=axes[i], label='Registered')\n",
    "    sns.lineplot(data=df_hour, x=value, y='casual', ax=axes[i], label='Casual')\n",
    "    axes[i].set_ylabel('Users')"
   ]
  },
  {
   "cell_type": "markdown",
   "id": "dec900fadc8a264f",
   "metadata": {},
   "source": [
    "There is no significant correlation"
   ]
  },
  {
   "cell_type": "markdown",
   "id": "6a6a3579ada0863d",
   "metadata": {},
   "source": [
    "## Correlation"
   ]
  },
  {
   "cell_type": "code",
   "execution_count": null,
   "id": "ae8374d62d92a679",
   "metadata": {
    "ExecuteTime": {
     "end_time": "2025-05-08T08:21:53.357058Z",
     "start_time": "2025-05-08T08:21:53.233294Z"
    }
   },
   "outputs": [],
   "source": [
    "numeric_df = df_hour.select_dtypes(include=['float64', 'int64'])\n",
    "corr = numeric_df.corr()\n",
    "mask = np.triu(np.ones_like(corr, dtype=bool), k=1)\n",
    "plt.figure(figsize=(10, 6))\n",
    "sns.heatmap(corr, mask=mask, center=0, vmin=-1, vmax=1, annot=True, fmt='.2f', cmap='coolwarm')\n",
    "plt.tight_layout()"
   ]
  },
  {
   "cell_type": "markdown",
   "id": "e1cfc740d656f841",
   "metadata": {},
   "source": [
    "## Clean Data"
   ]
  },
  {
   "cell_type": "code",
   "execution_count": null,
   "id": "6bc246e6-8e9a-4957-8c71-3bd6f1061d71",
   "metadata": {},
   "outputs": [],
   "source": []
  },
  {
   "cell_type": "code",
   "execution_count": null,
   "id": "ae5f792613317689",
   "metadata": {
    "ExecuteTime": {
     "end_time": "2025-05-08T08:22:11.188999Z",
     "start_time": "2025-05-08T08:22:11.149908Z"
    }
   },
   "outputs": [],
   "source": [
    "# df_hour = df_hour.drop(columns='instant')\n",
    "# df_hour = df_hour.drop(columns='atemp')\n",
    "df_hour = df_hour.drop(columns=['instant', 'atemp', 'dteday'])\n",
    "# df_hour = df_hour.drop(columns='dteday')\n",
    "df_hour['weathersit'] = df_hour['weathersit'].replace({1: 'clear', 2: 'mist', 3: 'light snow', 4: 'heavy rain'})\n",
    "\n",
    "#should I add hour?\n",
    "df_encoded = pd.get_dummies(df_hour, columns=['season', 'mnth', 'weekday', 'weathersit'], dtype=int)\n",
    "\n",
    "numeric_df = df_encoded.select_dtypes(include=['float64', 'int64'])\n",
    "corr = numeric_df.corr()\n",
    "mask = np.triu(np.ones_like(corr, dtype=bool), k=1)\n",
    "plt.figure(figsize=(20, 12))\n",
    "# sns.heatmap(corr, mask=mask, center=0, vmin=-1, vmax=1, annot=True, fmt='.2f', cmap='coolwarm')\n",
    "df_encoded.sample()"
   ]
  },
  {
   "cell_type": "code",
   "execution_count": null,
   "id": "c78988f5db63960d",
   "metadata": {
    "ExecuteTime": {
     "end_time": "2025-05-08T08:21:53.443256Z",
     "start_time": "2025-05-08T08:21:53.438003Z"
    }
   },
   "outputs": [],
   "source": [
    "df_hour"
   ]
  },
  {
   "cell_type": "code",
   "execution_count": null,
   "id": "4222e73e8d9dbbfb",
   "metadata": {},
   "outputs": [],
   "source": []
  },
  {
   "cell_type": "markdown",
   "id": "2e24e61250cc3adc",
   "metadata": {},
   "source": [
    "## Create features and target variable"
   ]
  },
  {
   "cell_type": "code",
   "execution_count": null,
   "id": "f222fe9dbd47f920",
   "metadata": {
    "ExecuteTime": {
     "end_time": "2025-05-08T08:21:53.541633Z",
     "start_time": "2025-05-08T08:21:53.477731Z"
    }
   },
   "outputs": [],
   "source": [
    "mlflow.set_tracking_uri('http://localhost:5000')\n",
    "X = df_encoded.drop(columns='registered')\n",
    "y = df_encoded['registered']\n",
    "# X = X.set_index('dteday')\n",
    "# y = y.set_index('dteday')\n",
    "\n",
    "X_train, X_test, y_train, y_test = train_test_split(X, y, test_size=0.2, random_state=42)\n",
    "X_train, X_val, y_train, y_val = train_test_split(X_train, y_train, test_size=0.2, random_state=42)\n",
    "\n",
    "scaler = StandardScaler()\n",
    "x_train_scaled = scaler.fit_transform(X_train)\n",
    "x_val_scaled = scaler.transform(X_val)\n",
    "print(\"mlflow before loop\")\n",
    "\n",
    "with mlflow.start_run(run_name='linear_regression'):\n",
    "    print(\"mlflow loop\")\n",
    "    model = RandomForestRegressor\n",
    "    # model = LinearRegression()\n",
    "    model.fit(x_train_scaled, y_train)\n",
    "    # model.fit(X_train, y_train)\n",
    "\n",
    "    y_pred = model.predict(x_val_scaled)\n",
    "    mse = mean_squared_error(y_val, y_pred)\n",
    "    r2 = r2_score(y_val, y_pred)\n",
    "\n",
    "    mlflow.log_param('model_type', \"Linear Regression\")\n",
    "    mlflow.log_metric('mse', mse)\n",
    "    mlflow.log_metric('r2', r2)\n",
    "\n",
    "\n",
    "    signature = mlflow.models.infer_signature(X_val, y_pred)\n",
    "    mlflow.sklearn.log_model(\n",
    "        model,\n",
    "        'linear_regression'\n",
    "        # signature=signature,\n",
    "        # input_example=x_train_scaled.iloc[0:1]\n",
    "    )\n",
    "\n",
    "    print(f\"Logged to MLflow: MSE={mse:.2f}, R2={r2:.2f}\")\n",
    "\n"
   ]
  },
  {
   "cell_type": "code",
   "execution_count": null,
   "id": "db744c8baa2dfe5",
   "metadata": {},
   "outputs": [],
   "source": [
    "# def tuning(model, param_grid, X, y):\n"
   ]
  }
 ],
 "metadata": {
  "kernelspec": {
   "display_name": "Python 3 (ipykernel)",
   "language": "python",
   "name": "python3"
  },
  "language_info": {
   "codemirror_mode": {
    "name": "ipython",
    "version": 3
   },
   "file_extension": ".py",
   "mimetype": "text/x-python",
   "name": "python",
   "nbconvert_exporter": "python",
   "pygments_lexer": "ipython3",
   "version": "3.13.3"
  }
 },
 "nbformat": 4,
 "nbformat_minor": 5
}
