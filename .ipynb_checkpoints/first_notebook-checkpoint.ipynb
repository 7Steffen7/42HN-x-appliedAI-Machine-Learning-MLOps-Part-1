{
 "cells": [
  {
   "metadata": {},
   "cell_type": "markdown",
   "source": "# Predicting Bike Sharing Demand",
   "id": "b33dc9d3cd34e73f"
  },
  {
   "metadata": {
    "ExecuteTime": {
     "end_time": "2025-05-05T14:01:15.251394Z",
     "start_time": "2025-05-05T14:01:15.243561Z"
    }
   },
   "cell_type": "code",
   "source": "import pandas as pd",
   "id": "e7e4f507fac5afcb",
   "outputs": [],
   "execution_count": 4
  },
  {
   "metadata": {},
   "cell_type": "code",
   "source": [
    "day_file = pd.read_csv('bike+sharing+dataset/day.csv')\n",
    "hour_file = pd.read_csv('bike+sharing+dataset/hour.csv')\n",
    "print(day_file)\n",
    "print(hour_file)"
   ],
   "id": "481e623fe2c35742",
   "outputs": [],
   "execution_count": null
  }
 ],
 "metadata": {
  "kernelspec": {
   "display_name": "Python 3",
   "language": "python",
   "name": "python3"
  },
  "language_info": {
   "codemirror_mode": {
    "name": "ipython",
    "version": 2
   },
   "file_extension": ".py",
   "mimetype": "text/x-python",
   "name": "python",
   "nbconvert_exporter": "python",
   "pygments_lexer": "ipython2",
   "version": "2.7.6"
  }
 },
 "nbformat": 4,
 "nbformat_minor": 5
}
