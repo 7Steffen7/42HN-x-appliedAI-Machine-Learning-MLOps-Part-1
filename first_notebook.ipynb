{
 "cells": [
  {
   "metadata": {},
   "cell_type": "markdown",
   "source": "# Predicting Bike Sharing Demand",
   "id": "b33dc9d3cd34e73f"
  },
  {
   "metadata": {},
   "cell_type": "code",
   "source": [
    "from ucimlrepo import fetch_ucirepo\n",
    "import pandas as pd"
   ],
   "id": "e7e4f507fac5afcb",
   "outputs": [],
   "execution_count": null
  },
  {
   "metadata": {},
   "cell_type": "code",
   "source": [
    "# fetch dataset\n",
    "bike_sharing = fetch_ucirepo(id=275)\n",
    "\n",
    "# data (as pandas dataframes)\n",
    "X = bike_sharing.data.features\n",
    "y = bike_sharing.data.targets\n",
    "\n",
    "# metadata\n",
    "print(bike_sharing.metadata)\n",
    "\n",
    "# variable information\n",
    "print(bike_sharing.variables)"
   ],
   "id": "481e623fe2c35742",
   "outputs": [],
   "execution_count": null
  }
 ],
 "metadata": {
  "kernelspec": {
   "display_name": "Python 3",
   "language": "python",
   "name": "python3"
  },
  "language_info": {
   "codemirror_mode": {
    "name": "ipython",
    "version": 2
   },
   "file_extension": ".py",
   "mimetype": "text/x-python",
   "name": "python",
   "nbconvert_exporter": "python",
   "pygments_lexer": "ipython2",
   "version": "2.7.6"
  }
 },
 "nbformat": 4,
 "nbformat_minor": 5
}
